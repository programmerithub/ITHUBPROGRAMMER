{
  "nbformat": 4,
  "nbformat_minor": 0,
  "metadata": {
    "colab": {
      "provenance": []
    },
    "kernelspec": {
      "name": "python3",
      "display_name": "Python 3"
    },
    "language_info": {
      "name": "python"
    }
  },
  "cells": [
    {
      "cell_type": "code",
      "source": [
        "t"
      ],
      "metadata": {
        "id": "zJVYRHrt7z2D"
      },
      "execution_count": null,
      "outputs": []
    },
    {
      "cell_type": "markdown",
      "source": [
        "# Task 1: Python Proficiency Check – AI Bootcamp Prep"
      ],
      "metadata": {
        "id": "L982FdumDCVn"
      }
    },
    {
      "cell_type": "markdown",
      "source": [
        "## Section 1: Basics & Control Flow"
      ],
      "metadata": {
        "id": "gk9AwRFXDO6n"
      }
    },
    {
      "cell_type": "markdown",
      "source": [
        "### **Task 1**: FizzBuzz with a Twist\n",
        "\n",
        "*Instruction*: Write a function that prints numbers from 1 to 50. For multiples of 3, print \"AI\", for multiples of 5 print \"Bootcamp\", and for multiples of both 3 and 5 print \"AI Bootcamp\"."
      ],
      "metadata": {
        "id": "tG2LLFb4DSrf"
      }
    },
    {
      "cell_type": "code",
      "source": [
        "def fizzbuzz_twist():\n",
        "    for i in range(1, 51):  # Loop through numbers 1 to 50\n",
        "        if i % 3 == 0 and i % 5 == 0:\n",
        "            print(\"AI Bootcamp\")  # For multiples of both 3 and 5\n",
        "        elif i % 3 == 0:\n",
        "            print(\"AI\")  # For multiples of 3\n",
        "        elif i % 5 == 0:\n",
        "            print(\"Bootcamp\")  # For multiples of 5\n",
        "        else:\n",
        "            print(i)  # Print the number itself\n",
        "\n",
        "# Call the function\n",
        "fizzbuzz_twist()"
      ],
      "metadata": {
        "id": "G6YtbgenDSWH",
        "colab": {
          "base_uri": "https://localhost:8080/"
        },
        "outputId": "affccdf5-2996-46c3-e6e3-e575e92d49fa"
      },
      "execution_count": null,
      "outputs": [
        {
          "output_type": "stream",
          "name": "stdout",
          "text": [
            "1\n",
            "2\n",
            "AI\n",
            "4\n",
            "Bootcamp\n",
            "AI\n",
            "7\n",
            "8\n",
            "AI\n",
            "Bootcamp\n",
            "11\n",
            "AI\n",
            "13\n",
            "14\n",
            "AI Bootcamp\n",
            "16\n",
            "17\n",
            "AI\n",
            "19\n",
            "Bootcamp\n",
            "AI\n",
            "22\n",
            "23\n",
            "AI\n",
            "Bootcamp\n",
            "26\n",
            "AI\n",
            "28\n",
            "29\n",
            "AI Bootcamp\n",
            "31\n",
            "32\n",
            "AI\n",
            "34\n",
            "Bootcamp\n",
            "AI\n",
            "37\n",
            "38\n",
            "AI\n",
            "Bootcamp\n",
            "41\n",
            "AI\n",
            "43\n",
            "44\n",
            "AI Bootcamp\n",
            "46\n",
            "47\n",
            "AI\n",
            "49\n",
            "Bootcamp\n"
          ]
        }
      ]
    },
    {
      "cell_type": "markdown",
      "source": [
        "### **Task 2**: List Comprehensions and Functions\n",
        "\n",
        "*Instruction*: Given a list of numbers, square only the even numbers using a list comprehension and define a function that returns the result."
      ],
      "metadata": {
        "id": "8YMADBQmDhHU"
      }
    },
    {
      "cell_type": "code",
      "execution_count": null,
      "metadata": {
        "colab": {
          "base_uri": "https://localhost:8080/"
        },
        "id": "sPfpD1yF4LTO",
        "outputId": "1d10a265-8332-43a4-e1e5-f3b7de55d410"
      },
      "outputs": [
        {
          "output_type": "stream",
          "name": "stdout",
          "text": [
            "[4, 16, 36]\n"
          ]
        }
      ],
      "source": [
        "def square_even_numbers(numbers):\n",
        "    return [x**2 for x in numbers if x % 2 == 0]  # List comprehension\n",
        "\n",
        "# Example usage\n",
        "numbers_list = [1, 2, 3, 4, 5, 6]\n",
        "print(square_even_numbers(numbers_list))  # Output: [4, 16, 36]"
      ]
    },
    {
      "cell_type": "markdown",
      "source": [
        "## Section 2: Data Structures & File I/O"
      ],
      "metadata": {
        "id": "03CKwCBtDzRL"
      }
    },
    {
      "cell_type": "markdown",
      "source": [
        "### **Task 3**: Word Frequency from a File\n",
        "\n",
        "*Instruction*: Read the provided text file (sample.txt) and return the 5 most common words (ignoring punctuation and case)."
      ],
      "metadata": {
        "id": "oh1W_9m5DuzF"
      }
    },
    {
      "cell_type": "code",
      "source": [],
      "metadata": {
        "id": "bzuDNLq_nRTq"
      },
      "execution_count": null,
      "outputs": []
    },
    {
      "cell_type": "code",
      "source": [
        "from collections import Counter\n",
        "import string\n",
        "\n",
        "def top_5_words(filepath):\n",
        "    try:\n",
        "        with open(filepath, 'r') as file:\n",
        "            text = file.read()  # Read the entire content of the file\n",
        "\n",
        "        # Normalize the text: convert to lowercase and remove punctuation\n",
        "        text = text.lower()  # Convert to lowercase\n",
        "        text = text.translate(str.maketrans('', '', string.punctuation))  # Remove punctuation\n",
        "\n",
        "        words = text.split()  # Split text into words\n",
        "        word_counts = Counter(words)  # Count occurrences of each word\n",
        "\n",
        "        return word_counts.most_common(5)  # Return the 5 most common words\n",
        "\n",
        "    except FileNotFoundError:\n",
        "        print(f\"Error: The file '{filepath}' was not found.\")\n",
        "        return []\n",
        "\n",
        "# Example usage\n",
        "print(top_5_words('/content/Sample_For_Task1.txt'))"
      ],
      "metadata": {
        "id": "SQTsWR6GDn6e",
        "outputId": "0889c979-8f2f-413c-fa4a-12f70e0e1341",
        "colab": {
          "base_uri": "https://localhost:8080/"
        }
      },
      "execution_count": 1,
      "outputs": [
        {
          "output_type": "stream",
          "name": "stdout",
          "text": [
            "[('the', 5), ('quick', 2), ('fox', 2), ('dog', 2), ('and', 2)]\n"
          ]
        }
      ]
    },
    {
      "cell_type": "markdown",
      "source": [
        "## Section 3: NumPy & pandas"
      ],
      "metadata": {
        "id": "mVV1BgZvEE3a"
      }
    },
    {
      "cell_type": "markdown",
      "source": [
        "### **Task 4**: NumPy Matrix Magic\n",
        "\n",
        "*Instruction*: Create a 5x5 matrix with random integers from 1 to 10. Replace all elements greater than 5 with 0."
      ],
      "metadata": {
        "id": "opUK7Z7LEIr4"
      }
    },
    {
      "cell_type": "code",
      "source": [
        "import numpy as np\n",
        "\n",
        "def matrix_transform():\n",
        "    # Step 1: Create a 5x5 matrix with random integers from 1 to 10\n",
        "    matrix = np.random.randint(1, 11, size=(5, 5))\n",
        "    # Step 2: Replace all elements greater than 5 with 0\n",
        "    matrix[matrix > 5] = 0\n",
        "    # Print the resulting matrix\n",
        "    print(\"Generated Matrix:\")\n",
        "    print(matrix)\n",
        "\n",
        "# Call the function once to execute the matrix transformation\n",
        "matrix_transform()"
      ],
      "metadata": {
        "id": "UW3FMdjQEEl3",
        "outputId": "5faba6aa-39ea-461d-a8bc-9dd14944765f",
        "colab": {
          "base_uri": "https://localhost:8080/"
        }
      },
      "execution_count": null,
      "outputs": [
        {
          "output_type": "stream",
          "name": "stdout",
          "text": [
            "Generated Matrix:\n",
            "[[0 0 0 0 2]\n",
            " [0 3 0 0 0]\n",
            " [2 4 3 3 0]\n",
            " [0 0 3 3 0]\n",
            " [4 0 0 0 0]]\n"
          ]
        }
      ]
    },
    {
      "cell_type": "markdown",
      "source": [
        "### **Task 5**: pandas DataFrame Manipulation\n",
        "\n",
        "*Instruction*: Given the following dictionary, convert it into a DataFrame, calculate the average score per student, and add it as a new column."
      ],
      "metadata": {
        "id": "YuFv3sE6ET9d"
      }
    },
    {
      "cell_type": "code",
      "source": [
        "import pandas as pd\n",
        "\n",
        "# Data dictionary\n",
        "data = {\n",
        "    'Name': ['Alice', 'Bob', 'Charlie'],\n",
        "    'Math': [85, 78, 92],\n",
        "    'Science': [90, 88, 84],\n",
        "    'English': [87, 85, 80]\n",
        "}\n",
        "\n",
        "# Step 1: Create a DataFrame from the data dictionary\n",
        "df = pd.DataFrame(data)\n",
        "\n",
        "# Step 2: Calculate the average score for each student\n",
        "# The average is taken across the subjects columns ('Math', 'Science', 'English')\n",
        "df['Average Score'] = df[['Math', 'Science', 'English']].mean(axis=1)\n",
        "\n",
        "# Step 3: Print the DataFrame to check the content with the new column\n",
        "print(df)"
      ],
      "metadata": {
        "id": "horbXH8iETuH",
        "outputId": "b68d806c-eb06-4359-abf9-9d2bf5c591cf",
        "colab": {
          "base_uri": "https://localhost:8080/"
        }
      },
      "execution_count": null,
      "outputs": [
        {
          "output_type": "stream",
          "name": "stdout",
          "text": [
            "      Name  Math  Science  English  Average Score\n",
            "0    Alice    85       90       87      87.333333\n",
            "1      Bob    78       88       85      83.666667\n",
            "2  Charlie    92       84       80      85.333333\n"
          ]
        }
      ]
    },
    {
      "cell_type": "markdown",
      "source": [
        "## Section 4: Visualization & Logic"
      ],
      "metadata": {
        "id": "GNO0DPi3EpgF"
      }
    },
    {
      "cell_type": "markdown",
      "source": [
        "### **Task 6**: Simple Data Visualization\n",
        "\n",
        "*Instruction*: Use matplotlib to create a bar chart showing the average score per subject from the DataFrame in the previous task."
      ],
      "metadata": {
        "id": "W74DNGaJEtdj"
      }
    },
    {
      "cell_type": "code",
      "source": [
        "import matplotlib.pyplot as plt\n",
        "\n",
        "# Data dictionary\n",
        "data = {\n",
        "    'Name': ['Alice', 'Bob', 'Charlie'],\n",
        "    'Math': [85, 78, 92],\n",
        "    'Science': [90, 88, 84],\n",
        "    'English': [87, 85, 80]\n",
        "}\n",
        "\n",
        "# Step 1: Calculate the average score for each student manually\n",
        "average_scores = []\n",
        "for i in range(len(data['Name'])):\n",
        "    avg = (data['Math'][i] + data['Science'][i] + data['English'][i]) / 3\n",
        "    average_scores.append(avg)\n",
        "\n",
        "# Step 2: Visualize the average scores using a bar chart\n",
        "plt.bar(data['Name'], average_scores, color=['blue', 'orange', 'green'])\n",
        "plt.title('Average Scores of Students')\n",
        "plt.xlabel('Students')\n",
        "plt.ylabel('Average Score')\n",
        "plt.ylim(0, 100)  # Set y-axis limits for clarity\n",
        "plt.grid(axis='y', linestyle='--', alpha=0.7)  # Add gridlines for better readability\n",
        "plt.show()  # Display the plot"
      ],
      "metadata": {
        "id": "aM8iWEAXEOmE",
        "outputId": "1a5189b7-61eb-43e0-a9ab-0e17e417f3b1",
        "colab": {
          "base_uri": "https://localhost:8080/",
          "height": 472
        }
      },
      "execution_count": null,
      "outputs": [
        {
          "output_type": "display_data",
          "data": {
            "text/plain": [
              "<Figure size 640x480 with 1 Axes>"
            ],
            "image/png": "[encoded data removed]"
          },
          "metadata": {}
        }
      ]
    },
    {
      "cell_type": "markdown",
      "source": [
        "## Section 5: Mini-Project Challenge"
      ],
      "metadata": {
        "id": "yFxPFagsE9mS"
      }
    },
    {
      "cell_type": "markdown",
      "source": [
        "### **Task 7**: Build a Mini Calculator with Exception Handling\n",
        "\n",
        "*Instruction*: Write a function that takes two numbers and an operator as input (+, -, *, /). Return the result, and handle divide-by-zero and invalid operator cases with appropriate error messages."
      ],
      "metadata": {
        "id": "IZwIOzHXFD1a"
      }
    },
    {
      "cell_type": "code",
      "source": [
        "def calculator(a, b, operator):\n",
        "    # Your code here\n",
        "    pass\n",
        "\n",
        "# Example:\n",
        "calculator(10, 0, '/')"
      ],
      "metadata": {
        "id": "VpUFTR1JFDWk"
      },
      "execution_count": null,
      "outputs": []
    },
    {
      "cell_type": "code",
      "source": [
        "def calculator(a, b, operator):\n",
        "    try:\n",
        "        # Perform the operation based on the operator\n",
        "        if operator == '+':\n",
        "            return a + b\n",
        "        elif operator == '-':\n",
        "            return a - b\n",
        "        elif operator == '*':\n",
        "            return a * b\n",
        "        elif operator == '/':\n",
        "            # Handle divide-by-zero exception\n",
        "            if b == 0:\n",
        "                raise ZeroDivisionError(\"Error: Cannot divide by zero.\")\n",
        "            return a / b\n",
        "        else:\n",
        "            # Handle invalid operator case\n",
        "            raise ValueError(\"Error: Invalid operator. Please use +, -, *, or /.\")\n",
        "\n",
        "    except ZeroDivisionError as e:\n",
        "        return str(e)\n",
        "\n",
        "    except ValueError as e:\n",
        "        return str(e)\n",
        "\n",
        "# Example usage\n",
        "print(calculator(10, 0, '/'))         # Will print an error message for division by zero\n",
        "print(calculator(10, 5, '+'))         # Will print 15\n",
        "print(calculator(10, 5, '-'))         # Will print 5\n",
        "print(calculator(10, 5, '*'))         # Will print 50\n",
        "print(calculator(10, 5, '/'))         # Will print 2.0\n",
        "print(calculator(10, 5, '%'))         # Will print an error message for invalid operator"
      ],
      "metadata": {
        "id": "OhxVH3o0QTBR",
        "outputId": "23fb9a23-dc23-4c54-fda4-731edaa484ff",
        "colab": {
          "base_uri": "https://localhost:8080/"
        }
      },
      "execution_count": null,
      "outputs": [
        {
          "output_type": "stream",
          "name": "stdout",
          "text": [
            "Error: Cannot divide by zero.\n",
            "15\n",
            "5\n",
            "50\n",
            "2.0\n",
            "Error: Invalid operator. Please use +, -, *, or /.\n"
          ]
        }
      ]
    }
  ]
}